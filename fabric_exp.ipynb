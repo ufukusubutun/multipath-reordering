{
 "cells": [
  {
   "cell_type": "markdown",
   "metadata": {},
   "source": [
    "### Configure environment"
   ],
   "id": "d8e8c5cf-af5a-464b-ad10-5f6ab1212c44"
  },
  {
   "cell_type": "code",
   "execution_count": null,
   "metadata": {},
   "outputs": [],
   "source": [
    "from fabrictestbed_extensions.fablib.fablib import FablibManager as fablib_manager\n",
    "fablib = fablib_manager() \n",
    "conf = fablib.show_config()"
   ],
   "id": "c6622e7b-3f41-4e6e-b5e3-3e05b546b0a6"
  },
  {
   "cell_type": "markdown",
   "metadata": {},
   "source": [
    "### Define configuration for this experiment (example)"
   ],
   "id": "dc199ebd-9cf9-4777-b37d-2209bf109261"
  },
  {
   "cell_type": "code",
   "execution_count": null,
   "metadata": {},
   "outputs": [],
   "source": [
    "slice_name=\"mp-\" + fablib.get_bastion_username()\n",
    "\n",
    "node_conf = [\n",
    " {'name': \"client\",  'cores': 4, 'ram': 8, 'disk': 30, 'image': 'default_ubuntu_20', 'packages': [\"moreutils\"]}, \n",
    " {'name': \"router\",  'cores': 4, 'ram': 8, 'disk': 30, 'image': 'default_ubuntu_20', 'packages': [\"moreutils\"]}, \n",
    " {'name': \"aggr\",    'cores': 4, 'ram': 8, 'disk': 30, 'image': 'default_ubuntu_20', 'packages': [\"moreutils\"]}, \n",
    " {'name': \"server\",  'cores': 4, 'ram': 8, 'disk': 30, 'image': 'default_ubuntu_20', 'packages': [\"moreutils\"]}\n",
    "]\n",
    "net_conf = [\n",
    " {\"name\": \"net0\", \"subnet\": \"10.10.0.0/24\", \"nodes\": [{\"name\": \"client\",  \"addr\": \"10.10.0.100\"}, {\"name\": \"router\",  \"addr\": \"10.10.0.1\"}]},\n",
    " {\"name\": \"net1\", \"subnet\": \"10.10.1.0/23\", \"nodes\": [{\"name\": \"router\",  \"addr\": \"10.10.1.1\"},   {\"name\": \"aggr\",    \"addr\": \"10.10.1.2\"}]},\n",
    " {\"name\": \"net2\", \"subnet\": \"10.10.1.0/23\", \"nodes\": [{\"name\": \"router\",  \"addr\": \"10.10.2.1\"},   {\"name\": \"aggr\",    \"addr\": \"10.10.2.2\"}]},\n",
    " {\"name\": \"net3\", \"subnet\": \"10.10.3.0/24\", \"nodes\": [{\"name\": \"server\",  \"addr\": \"10.10.3.100\"},  {\"name\": \"aggr\",   \"addr\": \"10.10.3.1\"}]}\n",
    "]\n",
    "\n",
    "route_conf = [\n",
    " {\"addr\": \"10.10.3.0/24\", \"gw\": \"10.10.0.1\", \"nodes\": [\"client\"]},\n",
    " {\"addr\": \"10.10.0.0/24\", \"gw\": \"10.10.3.1\", \"nodes\": [\"server\"]}\n",
    "\n",
    "]\n",
    "exp_conf = {'cores': sum([ n['cores'] for n in node_conf]), 'nic': sum([len(n['nodes']) for n in net_conf]) }"
   ],
   "id": "0221e1f1-541b-4b42-94a8-83b573e63880"
  },
  {
   "cell_type": "markdown",
   "metadata": {},
   "source": [
    "### Reserve resources\n",
    "\n",
    "Now, we are ready to reserve resources!"
   ],
   "id": "930cb372-2ca0-4e56-ba30-4a78e7a9539a"
  },
  {
   "cell_type": "markdown",
   "metadata": {},
   "source": [
    "First, make sure you don’t already have a slice with this name:"
   ],
   "id": "48320764-a09d-4e08-809d-8894812fbbfa"
  },
  {
   "cell_type": "code",
   "execution_count": null,
   "metadata": {},
   "outputs": [],
   "source": [
    "try:\n",
    "    slice = fablib.get_slice(slice_name)\n",
    "    print(\"You already have a slice by this name!\")\n",
    "    print(\"If you previously reserved resources, skip to the 'log in to resources' section.\")\n",
    "except:\n",
    "    print(\"You don't have a slice named %s yet.\" % slice_name)\n",
    "    print(\"Continue to the next step to make one.\")\n",
    "    slice = fablib.new_slice(name=slice_name)"
   ],
   "id": "4a0ed567-b044-4f69-bb0b-c714aa4fd28d"
  },
  {
   "cell_type": "markdown",
   "metadata": {},
   "source": [
    "We will select a random site that has sufficient resources for our experiment:"
   ],
   "id": "213900eb-748e-4602-84c1-a35422ab2e34"
  },
  {
   "cell_type": "code",
   "execution_count": null,
   "metadata": {},
   "outputs": [],
   "source": [
    "while True:\n",
    "    site_name = fablib.get_random_site()\n",
    "    if ( (fablib.resources.get_core_available(site_name) > 1.2*exp_conf['cores']) and\n",
    "        (fablib.resources.get_component_available(site_name, 'SharedNIC-ConnectX-6') > 1.2**exp_conf['nic']) ):\n",
    "        break\n",
    "\n",
    "fablib.show_site(site_name)"
   ],
   "id": "33e7f82b-bf7f-437d-8195-557710759ef9"
  },
  {
   "cell_type": "markdown",
   "metadata": {},
   "source": [
    "Then we will add hosts and network segments:"
   ],
   "id": "38714823-aa94-4400-b0b8-479bd1c7decc"
  },
  {
   "cell_type": "code",
   "execution_count": null,
   "metadata": {},
   "outputs": [],
   "source": [
    "# this cell sets up the nodes\n",
    "for n in node_conf:\n",
    "    slice.add_node(name=n['name'], site=site_name, \n",
    "                   cores=n['cores'], \n",
    "                   ram=n['ram'], \n",
    "                   disk=n['disk'], \n",
    "                   image=n['image'])"
   ],
   "id": "56f28e59-8002-4bb6-9ec9-c914f4f00beb"
  },
  {
   "cell_type": "code",
   "execution_count": null,
   "metadata": {},
   "outputs": [],
   "source": [
    "# this cell sets up the network segments\n",
    "for n in net_conf:\n",
    "    ifaces = [slice.get_node(node[\"name\"]).add_component(model=\"NIC_Basic\", \n",
    "                                                 name=n[\"name\"]).get_interfaces()[0] for node in n['nodes'] ]\n",
    "    slice.add_l2network(name=n[\"name\"], type='L2Bridge', interfaces=ifaces)"
   ],
   "id": "3aa9e558-ffd8-4ed5-a4ac-f4b72bc04752"
  },
  {
   "cell_type": "markdown",
   "metadata": {},
   "source": [
    "The following cell submits our request to the FABRIC site. The output of this cell will update automatically as the status of our request changes.\n",
    "\n",
    "-   While it is being prepared, the “State” of the slice will appear as “Configuring”.\n",
    "-   When it is ready, the “State” of the slice will change to “StableOK”.\n",
    "\n",
    "You may prefer to walk away and come back in a few minutes (for simple slices) or a few tens of minutes (for more complicated slices with many resources)."
   ],
   "id": "07069543-3877-42c6-97ab-f4bc3a5bed03"
  },
  {
   "cell_type": "code",
   "execution_count": null,
   "metadata": {},
   "outputs": [],
   "source": [
    "slice.submit()"
   ],
   "id": "0550712d-d45b-4bf5-a510-7c3d9d1c4d84"
  },
  {
   "cell_type": "code",
   "execution_count": null,
   "metadata": {},
   "outputs": [],
   "source": [
    "slice.get_state()\n",
    "slice.wait_ssh(progress=True)"
   ],
   "id": "c387f172-2278-49c4-8983-888e3e690e5d"
  },
  {
   "cell_type": "markdown",
   "metadata": {},
   "source": [
    "### Extend your slice\n",
    "\n",
    "If you don’t plan to finish an experiment in one day, you can extend your slice. The following cell extends your reservation for 7 days."
   ],
   "id": "543a69c4-55d9-426b-b0be-c2d47cd9a08f"
  },
  {
   "cell_type": "code",
   "execution_count": null,
   "metadata": {},
   "outputs": [],
   "source": [
    "from datetime import datetime\n",
    "from datetime import timezone\n",
    "from datetime import timedelta\n",
    "\n",
    "# Set end date to 7 days from now\n",
    "end_date = (datetime.now(timezone.utc) + timedelta(days=7)).strftime(\"%Y-%m-%d %H:%M:%S %z\")\n",
    "slice.renew(end_date)"
   ],
   "id": "7e310880-a497-4361-ae94-b9691e32621e"
  },
  {
   "cell_type": "markdown",
   "metadata": {},
   "source": [
    "### Configure resources\n",
    "\n",
    "Next, we will configure the resources so they are ready to use."
   ],
   "id": "f5f0a9ed-cd3c-4f62-bde5-788084e03195"
  },
  {
   "cell_type": "code",
   "execution_count": null,
   "metadata": {},
   "outputs": [],
   "source": [
    "slice = fablib.get_slice(name=slice_name)"
   ],
   "id": "d4d83ec5-dcd6-4670-91ef-5bd6d31c875d"
  },
  {
   "cell_type": "code",
   "execution_count": null,
   "metadata": {},
   "outputs": [],
   "source": [
    "# install packages\n",
    "# this will take a while and will run in background while you do other steps\n",
    "for n in node_conf:\n",
    "    if len(n['packages']):\n",
    "        node = slice.get_node(n['name'])\n",
    "        pkg = \" \".join(n['packages'])\n",
    "        node.execute_thread(\"sudo apt update; sudo DEBIAN_FRONTEND=noninteractive apt -y install %s\" % pkg)"
   ],
   "id": "3a0e1770-5cef-4b5e-9b8f-b02866ce18b0"
  },
  {
   "cell_type": "code",
   "execution_count": null,
   "metadata": {},
   "outputs": [],
   "source": [
    "# bring interfaces up and either assign an address (if there is one) or flush address\n",
    "from ipaddress import ip_address, IPv4Address, IPv4Network\n",
    "\n",
    "for net in net_conf:\n",
    "    for n in net['nodes']:\n",
    "        if_name = n['name'] + '-' + net['name'] + '-p1'\n",
    "        iface = slice.get_interface(if_name)\n",
    "        iface.ip_link_up()\n",
    "        if n['addr']:\n",
    "            iface.ip_addr_add(addr=n['addr'], subnet=IPv4Network(net['subnet']))\n",
    "        else:\n",
    "            iface.get_node().execute(\"sudo ip addr flush dev %s\"  % iface.get_device_name())"
   ],
   "id": "9509c0ef-156e-4992-9bcf-79d8e5967fb2"
  },
  {
   "cell_type": "code",
   "execution_count": null,
   "metadata": {},
   "outputs": [],
   "source": [
    "# make sure all interfaces are brought up\n",
    "for iface in slice.get_interfaces():\n",
    "    iface.ip_link_up()"
   ],
   "id": "6bf6dd1b-17c2-4b61-9e5f-ccb4fd522d31"
  },
  {
   "cell_type": "code",
   "execution_count": null,
   "metadata": {},
   "outputs": [],
   "source": [
    "# prepare a \"hosts\" file that has names and addresses of every node\n",
    "hosts_txt = [ \"%s\\t%s\" % ( n['addr'], n['name'] ) for net in net_conf  for n in net['nodes'] if type(n) is dict and n['addr']]\n",
    "for n in slice.get_nodes():\n",
    "    for h in hosts_txt:\n",
    "        n.execute(\"echo %s | sudo tee -a /etc/hosts\" % h)"
   ],
   "id": "1fc71528-2d88-4506-ab6d-8249914bae4e"
  },
  {
   "cell_type": "code",
   "execution_count": null,
   "metadata": {},
   "outputs": [],
   "source": [
    "# enable IPv4 forwarding on all nodes\n",
    "for n in slice.get_nodes():\n",
    "    n.execute(\"sudo sysctl -w net.ipv4.ip_forward=1\")"
   ],
   "id": "4012f35e-8f0c-4769-b57f-58d5558d5137"
  },
  {
   "cell_type": "code",
   "execution_count": null,
   "metadata": {},
   "outputs": [],
   "source": [
    "# set up static routes\n",
    "for rt in route_conf:\n",
    "    for n in rt['nodes']:\n",
    "        slice.get_node(name=n).ip_route_add(subnet=IPv4Network(rt['addr']), gateway=rt['gw'])"
   ],
   "id": "0e1cde6b-2e79-4f21-8ac2-3376da608c79"
  },
  {
   "cell_type": "code",
   "execution_count": null,
   "metadata": {},
   "outputs": [],
   "source": [
    "# turn off segmentation offload on interfaces\n",
    "for iface in slice.get_interfaces():\n",
    "    iface_name = iface.get_device_name()\n",
    "    n = iface.get_node()\n",
    "    offloads = [\"gro\", \"lro\", \"gso\", \"tso\"]\n",
    "    for offload in offloads:\n",
    "        n.execute(\"sudo ethtool -K %s %s off\" % (iface_name, offload))"
   ],
   "id": "89692573-2903-4696-9ec4-4747617eef38"
  },
  {
   "cell_type": "markdown",
   "metadata": {},
   "source": [
    "### Draw the network topology"
   ],
   "id": "c65ee114-ef1d-4bbf-b384-232a15f9d92c"
  },
  {
   "cell_type": "markdown",
   "metadata": {},
   "source": [
    "The following cell will draw the network topology, for your reference. The interface name and addresses of each experiment interface will be shown on the drawing."
   ],
   "id": "185534dd-5488-4e55-bcac-8fef8326c94f"
  },
  {
   "cell_type": "code",
   "execution_count": null,
   "metadata": {},
   "outputs": [],
   "source": [
    "l2_nets = [(n.get_name(), {'color': 'lavender'}) for n in slice.get_l2networks() ]\n",
    "l3_nets = [(n.get_name(), {'color': 'pink'}) for n in slice.get_l3networks() ]\n",
    "hosts   =   [(n.get_name(), {'color': 'lightblue'}) for n in slice.get_nodes()]\n",
    "nodes = l2_nets + l3_nets + hosts\n",
    "ifaces = [iface.toDict() for iface in slice.get_interfaces()]\n",
    "edges = [(iface['network'], iface['node'], \n",
    "          {'label': iface['physical_dev'] + '\\n' + iface['ip_addr'] + '\\n' + iface['mac']}) for iface in ifaces]"
   ],
   "id": "37b5b573-e93b-492b-bb0e-fefaf9932274"
  },
  {
   "cell_type": "code",
   "execution_count": null,
   "metadata": {},
   "outputs": [],
   "source": [
    "import networkx as nx\n",
    "import matplotlib.pyplot as plt\n",
    "plt.figure(figsize=(len(nodes),len(nodes)))\n",
    "G = nx.Graph()\n",
    "G.add_nodes_from(nodes)\n",
    "G.add_edges_from(edges)\n",
    "pos = nx.spring_layout(G)\n",
    "nx.draw(G, pos, node_shape='s',  \n",
    "        node_color=[n[1]['color'] for n in nodes], \n",
    "        node_size=[len(n[0])*400 for n in nodes],  \n",
    "        with_labels=True);\n",
    "nx.draw_networkx_edge_labels(G,pos,\n",
    "                             edge_labels=nx.get_edge_attributes(G,'label'),\n",
    "                             font_color='gray',  font_size=8, rotate=False);"
   ],
   "id": "a88f9c09-89ff-4c8f-a3e9-4e9fb2d4be17"
  },
  {
   "cell_type": "markdown",
   "metadata": {},
   "source": [
    "### Log into resources"
   ],
   "id": "887410ae-3287-447c-9390-d0b9161ebace"
  },
  {
   "cell_type": "markdown",
   "metadata": {},
   "source": [
    "Now, we are finally ready to log in to our resources over SSH! Run the following cells, and observe the table output - you will see an SSH command for each of the resources in your topology."
   ],
   "id": "b8505c24-68ff-4129-a6c8-d2956d5eec12"
  },
  {
   "cell_type": "code",
   "execution_count": null,
   "metadata": {},
   "outputs": [],
   "source": [
    "import pandas as pd\n",
    "pd.set_option('display.max_colwidth', None)\n",
    "slice_info = [{'Name': n.get_name(), 'SSH command': n.get_ssh_command()} for n in slice.get_nodes()]\n",
    "pd.DataFrame(slice_info).set_index('Name')"
   ],
   "id": "4d4e6010-051b-42e8-afd5-ac0d51b64232"
  },
  {
   "cell_type": "markdown",
   "metadata": {},
   "source": [
    "Now, you can open an SSH session on any of the resources as follows:\n",
    "\n",
    "-   in Jupyter, from the menu bar, use File \\> New \\> Terminal to open a new terminal.\n",
    "-   copy an SSH command from the table, and paste it into the terminal. (Note that each SSH command is a single line, even if the display wraps the text to a second line! When you copy and paste it, paste it all together.)\n",
    "\n",
    "You can repeat this process (open several terminals) to start a session on each resource. Each terminal session will have a tab in the Jupyter environment, so that you can easily switch between them."
   ],
   "id": "b90c5e6d-2e7a-4653-a722-1328aec2a210"
  },
  {
   "cell_type": "markdown",
   "metadata": {},
   "source": [
    "### Configure queues"
   ],
   "id": "e3b0527a-7b7d-410c-a245-bcef549a0959"
  },
  {
   "cell_type": "code",
   "execution_count": null,
   "metadata": {},
   "outputs": [],
   "source": [
    "# all of the experiment factors. For now, just one value. Later, we make these lists\n",
    "# and we can systematically run a full factorial experiment.\n",
    "exp = {\n",
    "    'link_rate':  130,  # rate of interface at endpoints and router reverse path, in Mbps.\n",
    "    'link_buf':   2.6,  # size of interface at endpoints and router reverse path, in Mbit.\n",
    "    'link_delay': 10,   # in ms, applied at aggr only\n",
    "    'p1_rate':    130,  # rate of router egress interface for path 1, in Mbps \n",
    "    'p1_buf':     2.6,  # size of router egress buffer for path 1, in Mbit\n",
    "    'p1_delay':   0.01, # delay of router egress interface for path 1, in ms \n",
    "    'p2_rate':    130,  # rate of router egress interface for path 2, in Mbps \n",
    "    'p2_buf':     2.6,  # size of router egress buffer for path 2, in Mbit\n",
    "    'p2_delay':   0.01, # delay of router egress interface for path 2, in ms \n",
    "    'p2_prob':    0.5,  # probability of being marked for path 2 \n",
    "    'lb_type':    \"packet\", # can be \"packet\" or \"flow\"\n",
    "    'trial':      1     # trial index\n",
    "}"
   ],
   "id": "061ee88a-b51f-4761-a6b8-044b3427981a"
  },
  {
   "cell_type": "code",
   "execution_count": null,
   "metadata": {},
   "outputs": [],
   "source": [
    "client_node = slice.get_node(name=\"client\")\n",
    "client_iface  = client_node.get_interface(network_name = \"net0\")\n",
    "client_ifname = client_iface.get_device_name()\n",
    "\n",
    "client_tc_cmd = '''\n",
    "    sudo tc qdisc del dev {iface} root  \n",
    "    sudo tc qdisc add dev {iface} root handle 1: htb default 3  \n",
    "    sudo tc class add dev {iface} parent 1:2 classid 1:3 htb rate {rate}Mbit  \n",
    "    sudo tc qdisc add dev {iface} parent 1:3 bfifo limit  {buf}mbit \n",
    "    '''.format(iface=client_ifname, rate=exp['link_rate'], buf=exp['link_buf'])\n",
    "\n",
    "client_node.execute(client_tc_cmd)\n"
   ],
   "id": "785d7ee4-e790-4624-86b9-a1c4d547f133"
  },
  {
   "cell_type": "code",
   "execution_count": null,
   "metadata": {},
   "outputs": [],
   "source": [
    "router_node = slice.get_node(name=\"router\")\n",
    "router_iface_0  = router_node.get_interface(network_name = \"net0\")\n",
    "router_iface_1  = router_node.get_interface(network_name = \"net1\")\n",
    "router_iface_2  = router_node.get_interface(network_name = \"net2\")\n",
    "router_ifname_0 = router_iface_0.get_device_name()\n",
    "router_ifname_1 = router_iface_1.get_device_name()\n",
    "router_ifname_2 = router_iface_2.get_device_name()\n",
    "\n",
    "router_tc_cmd = '''\n",
    "\n",
    "    # configure next hop for \"top\" path\n",
    "    sudo ip route add 10.10.3.0/24 via 10.10.1.2 dev {iface1}\n",
    "\n",
    "    sudo tc qdisc del dev {iface1} root  \n",
    "    sudo tc qdisc add dev {iface1} root handle 1: htb default 3  \n",
    "    sudo tc class add dev {iface1} parent 1:2 classid 1:3 htb rate {r1}Mbit quantum 1514\n",
    "    sudo tc qdisc add dev {iface1} parent 1:3 handle 3: netem delay {d1}ms\n",
    "    sudo tc qdisc add dev {iface1} parent 3: bfifo limit {b1}mbit \n",
    "\n",
    "\n",
    "    # configure next hop for \"bottom\" path\n",
    "    sudo ip route add 10.10.3.0/24 via 10.10.2.2 dev {iface2} table 100\n",
    "    sudo ip rule add fwmark 3 table 100 \n",
    "\n",
    "    sudo tc qdisc del dev {iface2} root  \n",
    "    sudo tc qdisc add dev {iface2} root handle 1: htb default 3  \n",
    "    sudo tc class add dev {iface2} parent 1:2 classid 1:3 htb rate {r2}Mbit quantum 1514 \n",
    "    sudo tc qdisc add dev {iface2} parent 1:3 handle 3: netem delay {d2}ms\n",
    "    sudo tc qdisc add dev {iface2} parent 3: bfifo limit {b2}mbit \n",
    "\n",
    "\n",
    "    # configure reverse path\n",
    "    sudo tc qdisc del dev {iface0} root  \n",
    "    sudo tc qdisc add dev {iface0} root handle 1: htb default 3  \n",
    "    sudo tc class add dev {iface0}parent 1:2 classid 1:3 htb rate {rl}Mbit  \n",
    "    sudo tc qdisc add dev {iface0} parent 1:3 bfifo limit  {bl}mbit \n",
    "\n",
    "    '''.format(iface0=router_ifname_0, iface1=router_ifname_1, iface2=router_ifname_2, \n",
    "            r1=exp['p1_rate'],   b1=exp['p1_buf'], d1=exp['p1_delay'], \n",
    "            r2=exp['p2_rate'],   b2=exp['p2_buf'], d2=exp['p2_delay'],\n",
    "            rl=exp['link_rate'], bl=exp['link_buf'])\n",
    "    \n",
    "router_node.execute(router_tc_cmd)"
   ],
   "id": "b4f6738d-394a-4f62-9ded-941c12055090"
  },
  {
   "cell_type": "code",
   "execution_count": null,
   "metadata": {},
   "outputs": [],
   "source": [
    "if exp['lb_type']==\"packet\":\n",
    "    router_iptables_cmd = '''\n",
    "        # flush first!\n",
    "        sudo iptables -t mangle -F\n",
    "        sudo iptables -A PREROUTING -m statistic --mode nth --every {n_packets} --packet 0 -t mangle --destination 10.10.3.100/24 --source 10.10.0.100/1 -j MARK --set-mark 3\n",
    "        sudo iptables -A PREROUTING -m mark --mark 3 -t mangle -j RETURN\n",
    "    '''\n",
    "\n",
    "    \n",
    "if exp['lb_type']==\"flow\":\n",
    "\n",
    "    router_iptables_cmd = '''\n",
    "        # flush first!\n",
    "        sudo iptables -t mangle -F\n",
    "        # Mark all flows to 2\n",
    "        sudo iptables -t mangle -A PREROUTING -i {iface0} -m conntrack --ctstate NEW -j CONNMARK --set-mark 2\n",
    "        # Mark half of the flows to 1\n",
    "        sudo iptables -t mangle -A PREROUTING -i {iface0} -m conntrack --ctstate NEW -m statistic --mode random --probability {prob} -j CONNMARK --set-mark 1\n",
    "        # restore and overwrite (?) the mark of previously marked flows\n",
    "        sudo iptables -t mangle -A PREROUTING -i {iface0} -m conntrack --ctstate ESTABLISHED,RELATED -j CONNMARK --restore-mark\n",
    "\n",
    "        # Mark packets 3 if they belong to flows marked 1\n",
    "        sudo iptables -t mangle -A PREROUTING -m connmark --mark 1 -j MARK --set-mark 3\n",
    "        # if a packet is marked with 3 return\n",
    "        sudo iptables -A PREROUTING -m mark --mark 3 -t mangle -j RETURN\n",
    "\n",
    "        # not used in this example - you can mark more packets with different marks as follows \n",
    "        #sudo iptables -t mangle -A PREROUTING -m connmark --mark 2 -j MARK --set-mark 4\n",
    "        #sudo iptables -A PREROUTING -m mark --mark 4 -t mangle -j RETURN\n",
    "    '''.format(iface0=router_ifname_0, prob=exp['p2_prob'], n_packets=int(1/exp['p2_prob']))\n",
    "\n",
    "    \n",
    "router_node.execute(router_iptables_cmd)"
   ],
   "id": "fd76adcb-7831-4d38-b419-b28d220a0bd9"
  },
  {
   "cell_type": "code",
   "execution_count": null,
   "metadata": {},
   "outputs": [],
   "source": [
    "router_node.execute(\"sudo iptables -L -n -t mangle\")"
   ],
   "id": "4a17908e-a1c3-41c1-b84a-6c630463f5e9"
  },
  {
   "cell_type": "code",
   "execution_count": null,
   "metadata": {},
   "outputs": [],
   "source": [
    "aggr_node = slice.get_node(name=\"aggr\")\n",
    "aggr_iface_3  = aggr_node.get_interface(network_name = \"net3\")\n",
    "aggr_iface_1  = aggr_node.get_interface(network_name = \"net1\")\n",
    "aggr_iface_2  = aggr_node.get_interface(network_name = \"net2\")\n",
    "aggr_ifname_3 = aggr_iface_3.get_device_name()\n",
    "aggr_ifname_1 = aggr_iface_1.get_device_name()\n",
    "aggr_ifname_2 = aggr_iface_2.get_device_name()\n",
    "\n",
    "aggr_tc_cmd = '''\n",
    "\n",
    "    # configure next hop for \"top\" path\n",
    "    sudo ip route add 10.10.0.0/24 via 10.10.1.1 dev {iface1}\n",
    "\n",
    "    sudo tc qdisc del dev {iface1} root  \n",
    "    sudo tc qdisc add dev {iface1} root handle 1: htb default 3  \n",
    "    sudo tc class add dev {iface1} parent 1:2 classid 1:3 htb rate {r1}Mbit quantum 1514\n",
    "    sudo tc qdisc add dev {iface1} parent 1:3 bfifo limit {b1}mbit  \n",
    "\n",
    "\n",
    "    # configure next hop for \"bottom\" path\n",
    "    sudo ip route add 10.10.0.0/24 via 10.10.2.1 dev {iface2} table 100\n",
    "    sudo ip rule add fwmark 3 table 100 \n",
    "\n",
    "    sudo tc qdisc del dev {iface2} root  \n",
    "    sudo tc qdisc add dev {iface2} root handle 1: htb default 3  \n",
    "    sudo tc class add dev {iface2} parent 1:2 classid 1:3 htb rate {r2}Mbit quantum 1514 \n",
    "    sudo tc qdisc add dev {iface2} parent 1:3 handle 3: netem delay {d2}ms\n",
    "    sudo tc qdisc add dev {iface2} parent 1:3 bfifo limit {b2}mbit  \n",
    "\n",
    "\n",
    "    # configure path to server\n",
    "\n",
    "    sudo tc qdisc del dev {iface3} root  \n",
    "    sudo tc qdisc add dev {iface3} root handle 1: htb default 3  \n",
    "    sudo tc class add dev {iface3} parent 1:2 classid 1:3 htb rate {rl}Mbit quantum 1514 \n",
    "    sudo tc qdisc add dev {iface3} parent 1:3 handle 3: netem delay {dl}ms\n",
    "    sudo tc qdisc add dev {iface3} parent 3: bfifo limit {bl}mbit \n",
    "    \n",
    "    \n",
    "    '''.format(iface3=aggr_ifname_3, iface1=aggr_ifname_1, iface2=aggr_ifname_2, \n",
    "            r1=exp['p1_rate'],   b1=exp['p1_buf'],   d1=exp['p1_delay'], \n",
    "            r2=exp['p2_rate'],   b2=exp['p2_buf'],   d2=exp['p2_delay'],\n",
    "            rl=exp['link_rate'], bl=exp['link_buf'], dl=exp['link_delay'])\n",
    "            \n",
    "aggr_node.execute(aggr_tc_cmd)"
   ],
   "id": "2252c3a5-a9cb-4171-ae89-a2705ea2b2f5"
  },
  {
   "cell_type": "code",
   "execution_count": null,
   "metadata": {},
   "outputs": [],
   "source": [
    "server_node = slice.get_node(name=\"server\")\n",
    "server_iface  = server_node.get_interface(network_name = \"net3\")\n",
    "server_ifname = server_iface.get_device_name()\n",
    "\n",
    "server_tc_cmd = '''\n",
    "    sudo tc qdisc del dev {iface} root  \n",
    "    sudo tc qdisc add dev {iface} root handle 1: htb default 3  \n",
    "    sudo tc class add dev {iface} parent 1:2 classid 1:3 htb rate {rate}Mbit  \n",
    "    sudo tc qdisc add dev {iface} parent 1:3 bfifo limit  {buf}mbit \n",
    "    '''.format(iface=server_ifname, rate=exp['lr'], buf=exp['lb'])\n",
    "\n",
    "\n",
    "server_node.execute(server_tc_cmd)"
   ],
   "id": "5a173d88-de87-41a9-92eb-e8cc21f56308"
  }
 ],
 "nbformat": 4,
 "nbformat_minor": 5,
 "metadata": {}
}
