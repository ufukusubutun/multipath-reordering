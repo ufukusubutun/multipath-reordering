{
 "cells": [
  {
   "cell_type": "markdown",
   "metadata": {},
   "source": [
    "### Configure environment"
   ],
   "id": "7840005e-d146-4327-b82d-3a7fc09aa0af"
  },
  {
   "cell_type": "code",
   "execution_count": null,
   "metadata": {},
   "outputs": [],
   "source": [
    "from fabrictestbed_extensions.fablib.fablib import FablibManager as fablib_manager\n",
    "fablib = fablib_manager() \n",
    "conf = fablib.show_config()"
   ],
   "id": "814c50d9-e302-4df0-85d3-7481f1c450cf"
  },
  {
   "cell_type": "markdown",
   "metadata": {},
   "source": [
    "### Define configuration for this experiment (example)"
   ],
   "id": "aa2b10d2-e430-454f-8001-8acd5ee0caa3"
  },
  {
   "cell_type": "code",
   "execution_count": null,
   "metadata": {},
   "outputs": [],
   "source": [
    "slice_name=\"mp-\" + fablib.get_bastion_username()\n",
    "\n",
    "node_conf = [\n",
    " {'name': \"client\",  'cores': 4, 'ram': 8, 'disk': 30, 'image': 'default_ubuntu_20', 'packages': [\"moreutils\"]}, \n",
    " {'name': \"router\",  'cores': 4, 'ram': 8, 'disk': 30, 'image': 'default_ubuntu_20', 'packages': [\"moreutils\"]}, \n",
    " {'name': \"aggr\",    'cores': 4, 'ram': 8, 'disk': 30, 'image': 'default_ubuntu_20', 'packages': [\"moreutils\"]}, \n",
    " {'name': \"server\",  'cores': 4, 'ram': 8, 'disk': 30, 'image': 'default_ubuntu_20', 'packages': [\"moreutils\"]}\n",
    "]\n",
    "net_conf = [\n",
    " {\"name\": \"net0\", \"subnet\": \"10.10.0.0/24\", \"nodes\": [{\"name\": \"client\",  \"addr\": \"10.10.0.100\"}, {\"name\": \"router\",  \"addr\": \"10.10.0.1\"}]},\n",
    " {\"name\": \"net1\", \"subnet\": \"10.10.2.0/23\", \"nodes\": [{\"name\": \"router\",  \"addr\": \"10.10.2.1\"},   {\"name\": \"aggr\",    \"addr\": \"10.10.2.2\"}]},\n",
    " {\"name\": \"net2\", \"subnet\": \"10.10.2.0/23\", \"nodes\": [{\"name\": \"router\",  \"addr\": \"10.10.3.1\"},   {\"name\": \"aggr\",    \"addr\": \"10.10.3.2\"}]},\n",
    " {\"name\": \"net3\", \"subnet\": \"10.10.4.0/24\", \"nodes\": [{\"name\": \"server\",  \"addr\": \"10.10.4.100\"},  {\"name\": \"aggr\",   \"addr\": \"10.10.4.1\"}]}\n",
    "]\n",
    "\n",
    "route_conf = [\n",
    " {\"addr\": \"10.10.4.0/24\", \"gw\": \"10.10.0.1\", \"nodes\": [\"client\"]},\n",
    " {\"addr\": \"10.10.0.0/24\", \"gw\": \"10.10.4.1\", \"nodes\": [\"server\"]}\n",
    "\n",
    "]\n",
    "exp_conf = {'cores': sum([ n['cores'] for n in node_conf]), 'nic': sum([len(n['nodes']) for n in net_conf]) }"
   ],
   "id": "9d20ed12-89ed-4e1c-9e84-dc5dd3e4ad78"
  },
  {
   "cell_type": "markdown",
   "metadata": {},
   "source": [
    "### Reserve resources\n",
    "\n",
    "Now, we are ready to reserve resources!"
   ],
   "id": "331fa7ba-af2c-4575-9469-cf804f6def21"
  },
  {
   "cell_type": "markdown",
   "metadata": {},
   "source": [
    "First, make sure you don’t already have a slice with this name:"
   ],
   "id": "243938e4-52fd-4415-bfcc-7c67f7f28427"
  },
  {
   "cell_type": "code",
   "execution_count": null,
   "metadata": {},
   "outputs": [],
   "source": [
    "try:\n",
    "    slice = fablib.get_slice(slice_name)\n",
    "    print(\"You already have a slice by this name!\")\n",
    "    print(\"If you previously reserved resources, skip to the 'log in to resources' section.\")\n",
    "except:\n",
    "    print(\"You don't have a slice named %s yet.\" % slice_name)\n",
    "    print(\"Continue to the next step to make one.\")\n",
    "    slice = fablib.new_slice(name=slice_name)"
   ],
   "id": "80fee67b-08d1-496a-bc4d-fbccfab553ce"
  },
  {
   "cell_type": "markdown",
   "metadata": {},
   "source": [
    "We will select a random site that has sufficient resources for our experiment:"
   ],
   "id": "3021f748-671f-4e3a-8d33-1d3473e537d3"
  },
  {
   "cell_type": "code",
   "execution_count": null,
   "metadata": {},
   "outputs": [],
   "source": [
    "while True:\n",
    "    site_name = fablib.get_random_site()\n",
    "    if ( (fablib.resources.get_core_available(site_name) > 1.2*exp_conf['cores']) and\n",
    "        (fablib.resources.get_component_available(site_name, 'SharedNIC-ConnectX-6') > 1.2**exp_conf['nic']) ):\n",
    "        break\n",
    "\n",
    "fablib.show_site(site_name)"
   ],
   "id": "d563edaf-5020-404a-995e-19cb79947d3e"
  },
  {
   "cell_type": "markdown",
   "metadata": {},
   "source": [
    "Then we will add hosts and network segments:"
   ],
   "id": "3302f530-5c3b-4448-8e4d-78702bb0de40"
  },
  {
   "cell_type": "code",
   "execution_count": null,
   "metadata": {},
   "outputs": [],
   "source": [
    "# this cell sets up the nodes\n",
    "for n in node_conf:\n",
    "    slice.add_node(name=n['name'], site=site_name, \n",
    "                   cores=n['cores'], \n",
    "                   ram=n['ram'], \n",
    "                   disk=n['disk'], \n",
    "                   image=n['image'])"
   ],
   "id": "281b3432-3414-43c4-9e27-f6619fc7ff24"
  },
  {
   "cell_type": "code",
   "execution_count": null,
   "metadata": {},
   "outputs": [],
   "source": [
    "# this cell sets up the network segments\n",
    "for n in net_conf:\n",
    "    ifaces = [slice.get_node(node[\"name\"]).add_component(model=\"NIC_Basic\", \n",
    "                                                 name=n[\"name\"]).get_interfaces()[0] for node in n['nodes'] ]\n",
    "    slice.add_l2network(name=n[\"name\"], type='L2Bridge', interfaces=ifaces)"
   ],
   "id": "d81489c0-a10a-4aad-bcd4-bec53010aaf6"
  },
  {
   "cell_type": "markdown",
   "metadata": {},
   "source": [
    "The following cell submits our request to the FABRIC site. The output of this cell will update automatically as the status of our request changes.\n",
    "\n",
    "-   While it is being prepared, the “State” of the slice will appear as “Configuring”.\n",
    "-   When it is ready, the “State” of the slice will change to “StableOK”.\n",
    "\n",
    "You may prefer to walk away and come back in a few minutes (for simple slices) or a few tens of minutes (for more complicated slices with many resources)."
   ],
   "id": "e3d66be3-2548-4c2b-a398-3584f5253352"
  },
  {
   "cell_type": "code",
   "execution_count": null,
   "metadata": {},
   "outputs": [],
   "source": [
    "slice.submit()"
   ],
   "id": "b4d155e9-3475-40d1-a887-83c986c04cd6"
  },
  {
   "cell_type": "code",
   "execution_count": null,
   "metadata": {},
   "outputs": [],
   "source": [
    "slice.get_state()\n",
    "slice.wait_ssh(progress=True)"
   ],
   "id": "2838418d-9386-43a3-b290-9fe718b55005"
  },
  {
   "cell_type": "markdown",
   "metadata": {},
   "source": [
    "### Extend your slice\n",
    "\n",
    "If you don’t plan to finish an experiment in one day, you can extend your slice. The following cell extends your reservation for 7 days."
   ],
   "id": "5c0ccf94-9dd1-41d4-9bf8-f9a20a6f65ad"
  },
  {
   "cell_type": "code",
   "execution_count": null,
   "metadata": {},
   "outputs": [],
   "source": [
    "from datetime import datetime\n",
    "from datetime import timezone\n",
    "from datetime import timedelta\n",
    "\n",
    "# Set end date to 7 days from now\n",
    "end_date = (datetime.now(timezone.utc) + timedelta(days=7)).strftime(\"%Y-%m-%d %H:%M:%S %z\")\n",
    "slice.renew(end_date)"
   ],
   "id": "de9e7c04-eeb4-4aee-a1c3-3aef54373297"
  },
  {
   "cell_type": "markdown",
   "metadata": {},
   "source": [
    "### Configure resources\n",
    "\n",
    "Next, we will configure the resources so they are ready to use."
   ],
   "id": "7e540d19-8516-462c-be0e-10b985703357"
  },
  {
   "cell_type": "code",
   "execution_count": null,
   "metadata": {},
   "outputs": [],
   "source": [
    "slice = fablib.get_slice(name=slice_name)"
   ],
   "id": "1d26a2aa-f50c-4f1b-818d-06d854ed1219"
  },
  {
   "cell_type": "code",
   "execution_count": null,
   "metadata": {},
   "outputs": [],
   "source": [
    "# install packages\n",
    "# this will take a while and will run in background while you do other steps\n",
    "for n in node_conf:\n",
    "    if len(n['packages']):\n",
    "        node = slice.get_node(n['name'])\n",
    "        pkg = \" \".join(n['packages'])\n",
    "        node.execute_thread(\"sudo apt update; sudo DEBIAN_FRONTEND=noninteractive apt -y install %s\" % pkg)"
   ],
   "id": "27e3f5ce-f278-4043-a180-a01ad6514fec"
  },
  {
   "cell_type": "code",
   "execution_count": null,
   "metadata": {},
   "outputs": [],
   "source": [
    "# bring interfaces up and either assign an address (if there is one) or flush address\n",
    "from ipaddress import ip_address, IPv4Address, IPv4Network\n",
    "\n",
    "for net in net_conf:\n",
    "    for n in net['nodes']:\n",
    "        if_name = n['name'] + '-' + net['name'] + '-p1'\n",
    "        iface = slice.get_interface(if_name)\n",
    "        iface.ip_link_up()\n",
    "        if n['addr']:\n",
    "            iface.ip_addr_add(addr=n['addr'], subnet=IPv4Network(net['subnet']))\n",
    "        else:\n",
    "            iface.get_node().execute(\"sudo ip addr flush dev %s\"  % iface.get_device_name())"
   ],
   "id": "309d5724-6b97-4a1a-aca4-73730e13bddc"
  },
  {
   "cell_type": "code",
   "execution_count": null,
   "metadata": {},
   "outputs": [],
   "source": [
    "# make sure all interfaces are brought up\n",
    "for iface in slice.get_interfaces():\n",
    "    iface.ip_link_up()"
   ],
   "id": "422057d2-7b0c-4c6d-9cfd-3a99505885bb"
  },
  {
   "cell_type": "code",
   "execution_count": null,
   "metadata": {},
   "outputs": [],
   "source": [
    "# prepare a \"hosts\" file that has names and addresses of every node\n",
    "hosts_txt = [ \"%s\\t%s\" % ( n['addr'], n['name'] ) for net in net_conf  for n in net['nodes'] if type(n) is dict and n['addr']]\n",
    "for n in slice.get_nodes():\n",
    "    for h in hosts_txt:\n",
    "        n.execute(\"echo %s | sudo tee -a /etc/hosts\" % h)"
   ],
   "id": "100338d1-27c7-41e5-b260-0b160514ef5c"
  },
  {
   "cell_type": "code",
   "execution_count": null,
   "metadata": {},
   "outputs": [],
   "source": [
    "# enable IPv4 forwarding on all nodes\n",
    "for n in slice.get_nodes():\n",
    "    n.execute(\"sudo sysctl -w net.ipv4.ip_forward=1\")"
   ],
   "id": "755de11a-0831-4d0d-bd9d-649253ca1351"
  },
  {
   "cell_type": "code",
   "execution_count": null,
   "metadata": {},
   "outputs": [],
   "source": [
    "# set up static routes\n",
    "for rt in route_conf:\n",
    "    for n in rt['nodes']:\n",
    "        slice.get_node(name=n).ip_route_add(subnet=IPv4Network(rt['addr']), gateway=rt['gw'])"
   ],
   "id": "0589619a-9c54-4138-b95c-4d7f603bd8e8"
  },
  {
   "cell_type": "code",
   "execution_count": null,
   "metadata": {},
   "outputs": [],
   "source": [
    "# turn off segmentation offload on interfaces\n",
    "for iface in slice.get_interfaces():\n",
    "    iface_name = iface.get_device_name()\n",
    "    n = iface.get_node()\n",
    "    offloads = [\"gro\", \"lro\", \"gso\", \"tso\"]\n",
    "    for offload in offloads:\n",
    "        n.execute(\"sudo ethtool -K %s %s off\" % (iface_name, offload))"
   ],
   "id": "019e4833-2b3d-489b-a991-30088e913caf"
  },
  {
   "cell_type": "markdown",
   "metadata": {},
   "source": [
    "### Draw the network topology"
   ],
   "id": "1890a4df-7ab4-4460-aeea-10333bc89c82"
  },
  {
   "cell_type": "markdown",
   "metadata": {},
   "source": [
    "The following cell will draw the network topology, for your reference. The interface name and addresses of each experiment interface will be shown on the drawing."
   ],
   "id": "92da0042-3f12-499a-a2fa-71dddd6f8a08"
  },
  {
   "cell_type": "code",
   "execution_count": null,
   "metadata": {},
   "outputs": [],
   "source": [
    "l2_nets = [(n.get_name(), {'color': 'lavender'}) for n in slice.get_l2networks() ]\n",
    "l3_nets = [(n.get_name(), {'color': 'pink'}) for n in slice.get_l3networks() ]\n",
    "hosts   =   [(n.get_name(), {'color': 'lightblue'}) for n in slice.get_nodes()]\n",
    "nodes = l2_nets + l3_nets + hosts\n",
    "ifaces = [iface.toDict() for iface in slice.get_interfaces()]\n",
    "edges = [(iface['network'], iface['node'], \n",
    "          {'label': iface['physical_dev'] + '\\n' + iface['ip_addr'] + '\\n' + iface['mac']}) for iface in ifaces]"
   ],
   "id": "5cc34ed5-0afb-4f00-a164-a8c172d56e52"
  },
  {
   "cell_type": "code",
   "execution_count": null,
   "metadata": {},
   "outputs": [],
   "source": [
    "import networkx as nx\n",
    "import matplotlib.pyplot as plt\n",
    "plt.figure(figsize=(len(nodes),len(nodes)))\n",
    "G = nx.Graph()\n",
    "G.add_nodes_from(nodes)\n",
    "G.add_edges_from(edges)\n",
    "pos = nx.spring_layout(G)\n",
    "nx.draw(G, pos, node_shape='s',  \n",
    "        node_color=[n[1]['color'] for n in nodes], \n",
    "        node_size=[len(n[0])*400 for n in nodes],  \n",
    "        with_labels=True);\n",
    "nx.draw_networkx_edge_labels(G,pos,\n",
    "                             edge_labels=nx.get_edge_attributes(G,'label'),\n",
    "                             font_color='gray',  font_size=8, rotate=False);"
   ],
   "id": "ce457a6b-4061-4ee7-9df5-fe95ca28833c"
  },
  {
   "cell_type": "markdown",
   "metadata": {},
   "source": [
    "### Log into resources"
   ],
   "id": "20cf6410-2c41-4371-a1dd-dccae8dfb4e0"
  },
  {
   "cell_type": "markdown",
   "metadata": {},
   "source": [
    "Now, we are finally ready to log in to our resources over SSH! Run the following cells, and observe the table output - you will see an SSH command for each of the resources in your topology."
   ],
   "id": "4636560c-1312-47d3-8048-402307b70061"
  },
  {
   "cell_type": "code",
   "execution_count": null,
   "metadata": {},
   "outputs": [],
   "source": [
    "import pandas as pd\n",
    "pd.set_option('display.max_colwidth', None)\n",
    "slice_info = [{'Name': n.get_name(), 'SSH command': n.get_ssh_command()} for n in slice.get_nodes()]\n",
    "pd.DataFrame(slice_info).set_index('Name')"
   ],
   "id": "ff93be72-9260-4b73-a796-d46baf1ace17"
  },
  {
   "cell_type": "markdown",
   "metadata": {},
   "source": [
    "Now, you can open an SSH session on any of the resources as follows:\n",
    "\n",
    "-   in Jupyter, from the menu bar, use File \\> New \\> Terminal to open a new terminal.\n",
    "-   copy an SSH command from the table, and paste it into the terminal. (Note that each SSH command is a single line, even if the display wraps the text to a second line! When you copy and paste it, paste it all together.)\n",
    "\n",
    "You can repeat this process (open several terminals) to start a session on each resource. Each terminal session will have a tab in the Jupyter environment, so that you can easily switch between them."
   ],
   "id": "8b7a51a9-2757-41e6-acc1-43cf3868eec6"
  },
  {
   "cell_type": "markdown",
   "metadata": {},
   "source": [
    "### Configure queues"
   ],
   "id": "9108d619-088b-40fa-925c-2e94b6e3ce8c"
  },
  {
   "cell_type": "code",
   "execution_count": null,
   "metadata": {},
   "outputs": [],
   "source": [
    "# all of the experiment factors. For now, just one value. Later, we make these lists\n",
    "# and we can systematically run a full factorial experiment.\n",
    "exp = {\n",
    "    'link_rate':  130,  # rate of interface at endpoints and router reverse path, in Mbps.\n",
    "    'link_buf':   2.6,  # size of interface at endpoints and router reverse path, in Mbit.\n",
    "    'link_delay': 10,   # in ms, applied at aggr only\n",
    "    'p1_rate':    130,  # rate of router egress interface for path 1, in Mbps \n",
    "    'p1_buf':     2.6,  # size of router egress buffer for path 1, in Mbit\n",
    "    'p1_delay':   0.01, # delay of router egress interface for path 1, in ms \n",
    "    'p2_rate':    130,  # rate of router egress interface for path 2, in Mbps \n",
    "    'p2_buf':     2.6,  # size of router egress buffer for path 2, in Mbit\n",
    "    'p2_delay':   0.01, # delay of router egress interface for path 2, in ms \n",
    "    'p2_prob':    0.5,  # probability of being marked for path 2 \n",
    "    'lb_type':    \"packet\", # can be \"packet\" or \"flow\"\n",
    "    'trial':      1     # trial index\n",
    "}"
   ],
   "id": "065ca9fb-5e96-4ef7-88b0-2e6ebf2f056e"
  },
  {
   "cell_type": "code",
   "execution_count": null,
   "metadata": {},
   "outputs": [],
   "source": [
    "client_node = slice.get_node(name=\"client\")\n",
    "client_iface  = client_node.get_interface(network_name = \"net0\")\n",
    "client_ifname = client_iface.get_device_name()\n",
    "\n",
    "client_tc_cmd = '''\n",
    "    sudo tc qdisc del dev {iface} root  \n",
    "    sudo tc qdisc add dev {iface} root handle 1: htb default 3  \n",
    "    sudo tc class add dev {iface} parent 1:2 classid 1:3 htb rate {rate}Mbit  \n",
    "    sudo tc qdisc add dev {iface} parent 1:3 bfifo limit  {buf}mbit \n",
    "    '''.format(iface=client_ifname, rate=exp['link_rate'], buf=exp['link_buf'])\n",
    "\n",
    "client_node.execute(client_tc_cmd)\n"
   ],
   "id": "cc01c6f5-0bc7-450a-b65b-a0312e613700"
  },
  {
   "cell_type": "code",
   "execution_count": null,
   "metadata": {},
   "outputs": [],
   "source": [
    "router_node = slice.get_node(name=\"router\")\n",
    "router_iface_0  = router_node.get_interface(network_name = \"net0\")\n",
    "router_iface_1  = router_node.get_interface(network_name = \"net1\")\n",
    "router_iface_2  = router_node.get_interface(network_name = \"net2\")\n",
    "router_ifname_0 = router_iface_0.get_device_name()\n",
    "router_ifname_1 = router_iface_1.get_device_name()\n",
    "router_ifname_2 = router_iface_2.get_device_name()\n",
    "\n",
    "router_tc_cmd = '''\n",
    "\n",
    "    # configure next hop for path via net1\n",
    "    sudo ip route add 10.10.4.0/24 via 10.10.2.2 dev {iface1}\n",
    "\n",
    "    sudo tc qdisc del dev {iface1} root  \n",
    "    sudo tc qdisc add dev {iface1} root handle 1: htb default 3  \n",
    "    sudo tc class add dev {iface1} parent 1:2 classid 1:3 htb rate {r1}Mbit quantum 1514\n",
    "    sudo tc qdisc add dev {iface1} parent 1:3 handle 3: netem delay {d1}ms\n",
    "    sudo tc qdisc add dev {iface1} parent 3: bfifo limit {b1}mbit \n",
    "\n",
    "\n",
    "    # configure next hop for path via net2\n",
    "    sudo ip route add 10.10.4.0/24 via 10.10.3.2 dev {iface2} table 100\n",
    "    sudo ip rule add fwmark 3 table 100 \n",
    "\n",
    "    sudo tc qdisc del dev {iface2} root  \n",
    "    sudo tc qdisc add dev {iface2} root handle 1: htb default 3  \n",
    "    sudo tc class add dev {iface2} parent 1:2 classid 1:3 htb rate {r2}Mbit quantum 1514 \n",
    "    sudo tc qdisc add dev {iface2} parent 1:3 handle 3: netem delay {d2}ms\n",
    "    sudo tc qdisc add dev {iface2} parent 3: bfifo limit {b2}mbit \n",
    "\n",
    "\n",
    "    # configure reverse path\n",
    "    sudo tc qdisc del dev {iface0} root  \n",
    "    sudo tc qdisc add dev {iface0} root handle 1: htb default 3  \n",
    "    sudo tc class add dev {iface0}parent 1:2 classid 1:3 htb rate {rl}Mbit  \n",
    "    sudo tc qdisc add dev {iface0} parent 1:3 bfifo limit  {bl}mbit \n",
    "\n",
    "    '''.format(iface0=router_ifname_0, iface1=router_ifname_1, iface2=router_ifname_2, \n",
    "            r1=exp['p1_rate'],   b1=exp['p1_buf'], d1=exp['p1_delay'], \n",
    "            r2=exp['p2_rate'],   b2=exp['p2_buf'], d2=exp['p2_delay'],\n",
    "            rl=exp['link_rate'], bl=exp['link_buf'])\n",
    "    \n",
    "router_node.execute(router_tc_cmd)"
   ],
   "id": "80420046-7e64-4107-baa8-b4221c79990e"
  },
  {
   "cell_type": "code",
   "execution_count": null,
   "metadata": {},
   "outputs": [],
   "source": [
    "if exp['lb_type']==\"packet\":\n",
    "    router_iptables_cmd = '''\n",
    "        # flush first!\n",
    "        sudo iptables -t mangle -F\n",
    "        sudo iptables -A PREROUTING -m statistic --mode nth --every {n_packets} --packet 0 -t mangle --destination 10.10.4.100/24 --source 10.10.0.100/1 -j MARK --set-mark 3\n",
    "        sudo iptables -A PREROUTING -m mark --mark 3 -t mangle -j RETURN\n",
    "    '''\n",
    "\n",
    "    \n",
    "if exp['lb_type']==\"flow\":\n",
    "\n",
    "    router_iptables_cmd = '''\n",
    "        # flush first!\n",
    "        sudo iptables -t mangle -F\n",
    "        # Mark all flows to 2\n",
    "        sudo iptables -t mangle -A PREROUTING -i {iface0} -m conntrack --ctstate NEW -j CONNMARK --set-mark 2\n",
    "        # Mark half of the flows to 1\n",
    "        sudo iptables -t mangle -A PREROUTING -i {iface0} -m conntrack --ctstate NEW -m statistic --mode random --probability {prob} -j CONNMARK --set-mark 1\n",
    "        # restore and overwrite (?) the mark of previously marked flows\n",
    "        sudo iptables -t mangle -A PREROUTING -i {iface0} -m conntrack --ctstate ESTABLISHED,RELATED -j CONNMARK --restore-mark\n",
    "\n",
    "        # Mark packets 3 if they belong to flows marked 1\n",
    "        sudo iptables -t mangle -A PREROUTING -m connmark --mark 1 -j MARK --set-mark 3\n",
    "        # if a packet is marked with 3 return\n",
    "        sudo iptables -A PREROUTING -m mark --mark 3 -t mangle -j RETURN\n",
    "\n",
    "        # not used in this example - you can mark more packets with different marks as follows \n",
    "        #sudo iptables -t mangle -A PREROUTING -m connmark --mark 2 -j MARK --set-mark 4\n",
    "        #sudo iptables -A PREROUTING -m mark --mark 4 -t mangle -j RETURN\n",
    "    '''.format(iface0=router_ifname_0, prob=exp['p2_prob'], n_packets=int(1/exp['p2_prob']))\n",
    "\n",
    "    \n",
    "router_node.execute(router_iptables_cmd)"
   ],
   "id": "cdcbd997-d360-47d7-9849-079157b29f44"
  },
  {
   "cell_type": "code",
   "execution_count": null,
   "metadata": {},
   "outputs": [],
   "source": [
    "router_node.execute(\"sudo iptables -L -n -t mangle\")"
   ],
   "id": "5a053f9a-6795-4d37-a48e-b68a906f580e"
  },
  {
   "cell_type": "code",
   "execution_count": null,
   "metadata": {},
   "outputs": [],
   "source": [
    "aggr_node = slice.get_node(name=\"aggr\")\n",
    "aggr_iface_3  = aggr_node.get_interface(network_name = \"net3\")\n",
    "aggr_iface_1  = aggr_node.get_interface(network_name = \"net1\")\n",
    "aggr_iface_2  = aggr_node.get_interface(network_name = \"net2\")\n",
    "aggr_ifname_3 = aggr_iface_3.get_device_name()\n",
    "aggr_ifname_1 = aggr_iface_1.get_device_name()\n",
    "aggr_ifname_2 = aggr_iface_2.get_device_name()\n",
    "\n",
    "aggr_tc_cmd = '''\n",
    "\n",
    "    # configure next hop for path via net1\n",
    "    sudo ip route add 10.10.0.0/24 via 10.10.2.1 dev {iface1}\n",
    "\n",
    "    sudo tc qdisc del dev {iface1} root  \n",
    "    sudo tc qdisc add dev {iface1} root handle 1: htb default 3  \n",
    "    sudo tc class add dev {iface1} parent 1:2 classid 1:3 htb rate {r1}Mbit quantum 1514\n",
    "    sudo tc qdisc add dev {iface1} parent 1:3 bfifo limit {b1}mbit  \n",
    "\n",
    "\n",
    "    # configure next hop for path via net2\n",
    "    sudo ip route add 10.10.0.0/24 via 10.10.3.1 dev {iface2} table 100\n",
    "    sudo ip rule add fwmark 3 table 100 \n",
    "\n",
    "    sudo tc qdisc del dev {iface2} root  \n",
    "    sudo tc qdisc add dev {iface2} root handle 1: htb default 3  \n",
    "    sudo tc class add dev {iface2} parent 1:2 classid 1:3 htb rate {r2}Mbit quantum 1514 \n",
    "    sudo tc qdisc add dev {iface2} parent 1:3 handle 3: netem delay {d2}ms\n",
    "    sudo tc qdisc add dev {iface2} parent 1:3 bfifo limit {b2}mbit  \n",
    "\n",
    "\n",
    "    # configure path to server\n",
    "\n",
    "    sudo tc qdisc del dev {iface3} root  \n",
    "    sudo tc qdisc add dev {iface3} root handle 1: htb default 3  \n",
    "    sudo tc class add dev {iface3} parent 1:2 classid 1:3 htb rate {rl}Mbit quantum 1514 \n",
    "    sudo tc qdisc add dev {iface3} parent 1:3 handle 3: netem delay {dl}ms\n",
    "    sudo tc qdisc add dev {iface3} parent 3: bfifo limit {bl}mbit \n",
    "    \n",
    "    \n",
    "    '''.format(iface3=aggr_ifname_3, iface1=aggr_ifname_1, iface2=aggr_ifname_2, \n",
    "            r1=exp['p1_rate'],   b1=exp['p1_buf'],   d1=exp['p1_delay'], \n",
    "            r2=exp['p2_rate'],   b2=exp['p2_buf'],   d2=exp['p2_delay'],\n",
    "            rl=exp['link_rate'], bl=exp['link_buf'], dl=exp['link_delay'])\n",
    "            \n",
    "aggr_node.execute(aggr_tc_cmd)"
   ],
   "id": "54b30ebd-d274-43ac-8485-a264f5da75b9"
  },
  {
   "cell_type": "code",
   "execution_count": null,
   "metadata": {},
   "outputs": [],
   "source": [
    "server_node = slice.get_node(name=\"server\")\n",
    "server_iface  = server_node.get_interface(network_name = \"net3\")\n",
    "server_ifname = server_iface.get_device_name()\n",
    "\n",
    "server_tc_cmd = '''\n",
    "    sudo tc qdisc del dev {iface} root  \n",
    "    sudo tc qdisc add dev {iface} root handle 1: htb default 3  \n",
    "    sudo tc class add dev {iface} parent 1:2 classid 1:3 htb rate {rate}Mbit  \n",
    "    sudo tc qdisc add dev {iface} parent 1:3 bfifo limit  {buf}mbit \n",
    "    '''.format(iface=server_ifname, rate=exp['lr'], buf=exp['lb'])\n",
    "\n",
    "\n",
    "server_node.execute(server_tc_cmd)"
   ],
   "id": "ed407b85-2480-4f95-a10b-fecdb4f5f89d"
  }
 ],
 "nbformat": 4,
 "nbformat_minor": 5,
 "metadata": {}
}
