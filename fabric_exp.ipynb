{
 "cells": [
  {
   "cell_type": "markdown",
   "metadata": {},
   "source": [
    "### Configure environment"
   ],
   "id": "dc8a28b5-a115-4060-93d9-ef854d88337a"
  },
  {
   "cell_type": "code",
   "execution_count": null,
   "metadata": {},
   "outputs": [],
   "source": [
    "from fabrictestbed_extensions.fablib.fablib import FablibManager as fablib_manager\n",
    "fablib = fablib_manager() \n",
    "conf = fablib.show_config()"
   ],
   "id": "0c3b13bc-29e9-46ce-bfac-e4751978be7c"
  },
  {
   "cell_type": "markdown",
   "metadata": {},
   "source": [
    "### Define configuration for this experiment (example)"
   ],
   "id": "525e5074-0337-42ae-a28b-c7bd065aef3d"
  },
  {
   "cell_type": "code",
   "execution_count": null,
   "metadata": {},
   "outputs": [],
   "source": [
    "slice_name=\"mp-\" + fablib.get_bastion_username()\n",
    "\n",
    "node_conf = [\n",
    " {'name': \"client\",  'cores': 4, 'ram': 8, 'disk': 30, 'image': 'default_ubuntu_20', 'packages': [\"moreutils\"]}, \n",
    " {'name': \"router\",  'cores': 4, 'ram': 8, 'disk': 30, 'image': 'default_ubuntu_20', 'packages': [\"moreutils\"]}, \n",
    " {'name': \"aggr\",    'cores': 4, 'ram': 8, 'disk': 30, 'image': 'default_ubuntu_20', 'packages': [\"moreutils\"]}, \n",
    " {'name': \"server\",  'cores': 4, 'ram': 8, 'disk': 30, 'image': 'default_ubuntu_20', 'packages': [\"moreutils\"]}\n",
    "]\n",
    "net_conf = [\n",
    " {\"name\": \"net0\", \"subnet\": \"10.10.0.0/24\", \"nodes\": [{\"name\": \"client\",  \"addr\": \"10.10.0.100\"}, {\"name\": \"router\",  \"addr\": \"10.10.0.1\"}]},\n",
    " {\"name\": \"net1\", \"subnet\": \"10.10.1.0/23\", \"nodes\": [{\"name\": \"router\",  \"addr\": \"10.10.1.1\"},   {\"name\": \"aggr\",    \"addr\": \"10.10.1.2\"}]},\n",
    " {\"name\": \"net2\", \"subnet\": \"10.10.2.0/23\", \"nodes\": [{\"name\": \"router\",  \"addr\": \"10.10.2.1\"},   {\"name\": \"aggr\",    \"addr\": \"10.10.2.2\"}]},\n",
    " {\"name\": \"net3\", \"subnet\": \"10.10.3.0/24\", \"nodes\": [{\"name\": \"server\",  \"addr\": \"10.10.3.100\"},  {\"name\": \"aggr\",   \"addr\": \"10.10.3.1\"}]}\n",
    "]\n",
    "\n",
    "route_conf = [\n",
    " {\"addr\": \"10.10.3.0/24\", \"gw\": \"10.10.0.1\", \"nodes\": [\"client\"]},\n",
    " {\"addr\": \"10.10.0.0/24\", \"gw\": \"10.10.3.1\", \"nodes\": [\"server\"]}\n",
    "\n",
    "]\n",
    "exp_conf = {'cores': sum([ n['cores'] for n in node_conf]), 'nic': sum([len(n['nodes']) for n in net_conf]) }"
   ],
   "id": "14ec0a44-c1db-4472-bb08-14800e558c02"
  },
  {
   "cell_type": "markdown",
   "metadata": {},
   "source": [
    "### Reserve resources\n",
    "\n",
    "Now, we are ready to reserve resources!"
   ],
   "id": "229b88ba-e174-4c56-a3f0-7bba8c331688"
  },
  {
   "cell_type": "markdown",
   "metadata": {},
   "source": [
    "First, make sure you don’t already have a slice with this name:"
   ],
   "id": "adac93e1-8d30-40d8-bdb9-c88d7190ba8c"
  },
  {
   "cell_type": "code",
   "execution_count": null,
   "metadata": {},
   "outputs": [],
   "source": [
    "try:\n",
    "    slice = fablib.get_slice(slice_name)\n",
    "    print(\"You already have a slice by this name!\")\n",
    "    print(\"If you previously reserved resources, skip to the 'log in to resources' section.\")\n",
    "except:\n",
    "    print(\"You don't have a slice named %s yet.\" % slice_name)\n",
    "    print(\"Continue to the next step to make one.\")\n",
    "    slice = fablib.new_slice(name=slice_name)"
   ],
   "id": "5dfbf7dd-3c45-4b39-ba9b-20664dd09a80"
  },
  {
   "cell_type": "markdown",
   "metadata": {},
   "source": [
    "We will select a random site that has sufficient resources for our experiment:"
   ],
   "id": "ec29805a-6db4-4372-99d5-0f11a8f982ac"
  },
  {
   "cell_type": "code",
   "execution_count": null,
   "metadata": {},
   "outputs": [],
   "source": [
    "while True:\n",
    "    site_name = fablib.get_random_site()\n",
    "    if ( (fablib.resources.get_core_available(site_name) > 1.2*exp_conf['cores']) and\n",
    "        (fablib.resources.get_component_available(site_name, 'SharedNIC-ConnectX-6') > 1.2**exp_conf['nic']) ):\n",
    "        break\n",
    "\n",
    "fablib.show_site(site_name)"
   ],
   "id": "0c011738-c0ee-45d1-a881-f9a2813e7356"
  },
  {
   "cell_type": "markdown",
   "metadata": {},
   "source": [
    "Then we will add hosts and network segments:"
   ],
   "id": "82deb831-2dc4-4fc6-af77-828f317ab3b5"
  },
  {
   "cell_type": "code",
   "execution_count": null,
   "metadata": {},
   "outputs": [],
   "source": [
    "# this cell sets up the nodes\n",
    "for n in node_conf:\n",
    "    slice.add_node(name=n['name'], site=site_name, \n",
    "                   cores=n['cores'], \n",
    "                   ram=n['ram'], \n",
    "                   disk=n['disk'], \n",
    "                   image=n['image'])"
   ],
   "id": "67058dc3-4ad9-439a-be89-02df04421c5d"
  },
  {
   "cell_type": "code",
   "execution_count": null,
   "metadata": {},
   "outputs": [],
   "source": [
    "# this cell sets up the network segments\n",
    "for n in net_conf:\n",
    "    ifaces = [slice.get_node(node[\"name\"]).add_component(model=\"NIC_Basic\", \n",
    "                                                 name=n[\"name\"]).get_interfaces()[0] for node in n['nodes'] ]\n",
    "    slice.add_l2network(name=n[\"name\"], type='L2Bridge', interfaces=ifaces)"
   ],
   "id": "4a4e45e3-4e90-4c86-908d-bd9338169dc0"
  },
  {
   "cell_type": "markdown",
   "metadata": {},
   "source": [
    "The following cell submits our request to the FABRIC site. The output of this cell will update automatically as the status of our request changes.\n",
    "\n",
    "-   While it is being prepared, the “State” of the slice will appear as “Configuring”.\n",
    "-   When it is ready, the “State” of the slice will change to “StableOK”.\n",
    "\n",
    "You may prefer to walk away and come back in a few minutes (for simple slices) or a few tens of minutes (for more complicated slices with many resources)."
   ],
   "id": "307f22f3-2a77-49f5-95a5-b9859efa8289"
  },
  {
   "cell_type": "code",
   "execution_count": null,
   "metadata": {},
   "outputs": [],
   "source": [
    "slice.submit()"
   ],
   "id": "5f215c52-09f9-4ef2-b94e-fe4c47b839cf"
  },
  {
   "cell_type": "code",
   "execution_count": null,
   "metadata": {},
   "outputs": [],
   "source": [
    "slice.get_state()\n",
    "slice.wait_ssh(progress=True)"
   ],
   "id": "cfdec781-0f25-44e2-9f35-31915797ae12"
  },
  {
   "cell_type": "markdown",
   "metadata": {},
   "source": [
    "### Extend your slice\n",
    "\n",
    "If you don’t plan to finish an experiment in one day, you can extend your slice. The following cell extends your reservation for 7 days."
   ],
   "id": "a9924f5f-7e79-41d9-8584-6d697dcb0ee7"
  },
  {
   "cell_type": "code",
   "execution_count": null,
   "metadata": {},
   "outputs": [],
   "source": [
    "from datetime import datetime\n",
    "from datetime import timezone\n",
    "from datetime import timedelta\n",
    "\n",
    "# Set end date to 7 days from now\n",
    "end_date = (datetime.now(timezone.utc) + timedelta(days=7)).strftime(\"%Y-%m-%d %H:%M:%S %z\")\n",
    "slice.renew(end_date)"
   ],
   "id": "e0f6f8f6-b285-4963-b827-aad259e5264f"
  },
  {
   "cell_type": "markdown",
   "metadata": {},
   "source": [
    "### Configure resources\n",
    "\n",
    "Next, we will configure the resources so they are ready to use."
   ],
   "id": "aa4b6489-eb80-4a84-bebd-3dc94b82721a"
  },
  {
   "cell_type": "code",
   "execution_count": null,
   "metadata": {},
   "outputs": [],
   "source": [
    "slice = fablib.get_slice(name=slice_name)"
   ],
   "id": "fd06617d-19f6-43f1-8b99-300f4dd71912"
  },
  {
   "cell_type": "code",
   "execution_count": null,
   "metadata": {},
   "outputs": [],
   "source": [
    "# install packages\n",
    "# this will take a while and will run in background while you do other steps\n",
    "for n in node_conf:\n",
    "    if len(n['packages']):\n",
    "        node = slice.get_node(n['name'])\n",
    "        pkg = \" \".join(n['packages'])\n",
    "        node.execute_thread(\"sudo apt update; sudo DEBIAN_FRONTEND=noninteractive apt -y install %s\" % pkg)"
   ],
   "id": "fd2ae236-8a02-4ff2-b3c6-f830472044aa"
  },
  {
   "cell_type": "code",
   "execution_count": null,
   "metadata": {},
   "outputs": [],
   "source": [
    "# bring interfaces up and either assign an address (if there is one) or flush address\n",
    "from ipaddress import ip_address, IPv4Address, IPv4Network\n",
    "\n",
    "for net in net_conf:\n",
    "    for n in net['nodes']:\n",
    "        if_name = n['name'] + '-' + net['name'] + '-p1'\n",
    "        iface = slice.get_interface(if_name)\n",
    "        iface.ip_link_up()\n",
    "        if n['addr']:\n",
    "            iface.ip_addr_add(addr=n['addr'], subnet=IPv4Network(net['subnet']))\n",
    "        else:\n",
    "            iface.get_node().execute(\"sudo ip addr flush dev %s\"  % iface.get_device_name())"
   ],
   "id": "054ba126-2c0c-4376-8737-7be60513644a"
  },
  {
   "cell_type": "code",
   "execution_count": null,
   "metadata": {},
   "outputs": [],
   "source": [
    "# make sure all interfaces are brought up\n",
    "for iface in slice.get_interfaces():\n",
    "    iface.ip_link_up()"
   ],
   "id": "572a55d0-58c8-4036-94c6-91f08f779146"
  },
  {
   "cell_type": "code",
   "execution_count": null,
   "metadata": {},
   "outputs": [],
   "source": [
    "# prepare a \"hosts\" file that has names and addresses of every node\n",
    "hosts_txt = [ \"%s\\t%s\" % ( n['addr'], n['name'] ) for net in net_conf  for n in net['nodes'] if type(n) is dict and n['addr']]\n",
    "for n in slice.get_nodes():\n",
    "    for h in hosts_txt:\n",
    "        n.execute(\"echo %s | sudo tee -a /etc/hosts\" % h)"
   ],
   "id": "430adfa0-bd8d-4c0b-a3a5-e3aadd0cbda2"
  },
  {
   "cell_type": "code",
   "execution_count": null,
   "metadata": {},
   "outputs": [],
   "source": [
    "# enable IPv4 forwarding on all nodes\n",
    "for n in slice.get_nodes():\n",
    "    n.execute(\"sudo sysctl -w net.ipv4.ip_forward=1\")"
   ],
   "id": "3c21aaca-8506-407f-8121-732fce2db9b2"
  },
  {
   "cell_type": "code",
   "execution_count": null,
   "metadata": {},
   "outputs": [],
   "source": [
    "# set up static routes\n",
    "for rt in route_conf:\n",
    "    for n in rt['nodes']:\n",
    "        slice.get_node(name=n).ip_route_add(subnet=IPv4Network(rt['addr']), gateway=rt['gw'])"
   ],
   "id": "1468115c-7e62-4bbb-b5d4-ab14654b2745"
  },
  {
   "cell_type": "code",
   "execution_count": null,
   "metadata": {},
   "outputs": [],
   "source": [
    "# turn off segmentation offload on interfaces\n",
    "for iface in slice.get_interfaces():\n",
    "    iface_name = iface.get_device_name()\n",
    "    n = iface.get_node()\n",
    "    offloads = [\"gro\", \"lro\", \"gso\", \"tso\"]\n",
    "    for offload in offloads:\n",
    "        n.execute(\"sudo ethtool -K %s %s off\" % (iface_name, offload))"
   ],
   "id": "eb112db9-867f-46cc-b04f-91a224488744"
  },
  {
   "cell_type": "markdown",
   "metadata": {},
   "source": [
    "### Draw the network topology"
   ],
   "id": "d3f17aca-7daa-44e2-b0fa-a9fc380f4cf0"
  },
  {
   "cell_type": "markdown",
   "metadata": {},
   "source": [
    "The following cell will draw the network topology, for your reference. The interface name and addresses of each experiment interface will be shown on the drawing."
   ],
   "id": "80909001-c58e-4e18-b7c6-342aeaaf83a5"
  },
  {
   "cell_type": "code",
   "execution_count": null,
   "metadata": {},
   "outputs": [],
   "source": [
    "l2_nets = [(n.get_name(), {'color': 'lavender'}) for n in slice.get_l2networks() ]\n",
    "l3_nets = [(n.get_name(), {'color': 'pink'}) for n in slice.get_l3networks() ]\n",
    "hosts   =   [(n.get_name(), {'color': 'lightblue'}) for n in slice.get_nodes()]\n",
    "nodes = l2_nets + l3_nets + hosts\n",
    "ifaces = [iface.toDict() for iface in slice.get_interfaces()]\n",
    "edges = [(iface['network'], iface['node'], \n",
    "          {'label': iface['physical_dev'] + '\\n' + iface['ip_addr'] + '\\n' + iface['mac']}) for iface in ifaces]"
   ],
   "id": "fa1552bc-67fa-4cd2-9922-fed0f959f379"
  },
  {
   "cell_type": "code",
   "execution_count": null,
   "metadata": {},
   "outputs": [],
   "source": [
    "import networkx as nx\n",
    "import matplotlib.pyplot as plt\n",
    "plt.figure(figsize=(len(nodes),len(nodes)))\n",
    "G = nx.Graph()\n",
    "G.add_nodes_from(nodes)\n",
    "G.add_edges_from(edges)\n",
    "pos = nx.spring_layout(G)\n",
    "nx.draw(G, pos, node_shape='s',  \n",
    "        node_color=[n[1]['color'] for n in nodes], \n",
    "        node_size=[len(n[0])*400 for n in nodes],  \n",
    "        with_labels=True);\n",
    "nx.draw_networkx_edge_labels(G,pos,\n",
    "                             edge_labels=nx.get_edge_attributes(G,'label'),\n",
    "                             font_color='gray',  font_size=8, rotate=False);"
   ],
   "id": "5954bc5b-13cd-4691-ace5-dfdc4038ae5a"
  },
  {
   "cell_type": "markdown",
   "metadata": {},
   "source": [
    "### Log into resources"
   ],
   "id": "1bbbfaf2-6f4e-4787-b89d-b7d4a7f916e7"
  },
  {
   "cell_type": "markdown",
   "metadata": {},
   "source": [
    "Now, we are finally ready to log in to our resources over SSH! Run the following cells, and observe the table output - you will see an SSH command for each of the resources in your topology."
   ],
   "id": "100799df-dae4-45ab-ae55-24b3d3ec4b69"
  },
  {
   "cell_type": "code",
   "execution_count": null,
   "metadata": {},
   "outputs": [],
   "source": [
    "import pandas as pd\n",
    "pd.set_option('display.max_colwidth', None)\n",
    "slice_info = [{'Name': n.get_name(), 'SSH command': n.get_ssh_command()} for n in slice.get_nodes()]\n",
    "pd.DataFrame(slice_info).set_index('Name')"
   ],
   "id": "0b13e052-5c9d-4e03-b2ca-741b5362288f"
  },
  {
   "cell_type": "markdown",
   "metadata": {},
   "source": [
    "Now, you can open an SSH session on any of the resources as follows:\n",
    "\n",
    "-   in Jupyter, from the menu bar, use File \\> New \\> Terminal to open a new terminal.\n",
    "-   copy an SSH command from the table, and paste it into the terminal. (Note that each SSH command is a single line, even if the display wraps the text to a second line! When you copy and paste it, paste it all together.)\n",
    "\n",
    "You can repeat this process (open several terminals) to start a session on each resource. Each terminal session will have a tab in the Jupyter environment, so that you can easily switch between them."
   ],
   "id": "3e563e1c-5a99-462f-a8d1-116c91220eed"
  },
  {
   "cell_type": "markdown",
   "metadata": {},
   "source": [
    "### Configure queues"
   ],
   "id": "3f68ab70-5e22-4c21-ab49-fbcf30889e91"
  },
  {
   "cell_type": "code",
   "execution_count": null,
   "metadata": {},
   "outputs": [],
   "source": [
    "# all of the experiment factors. For now, just one value. Later, we make these lists\n",
    "# and we can systematically run a full factorial experiment.\n",
    "exp = {\n",
    "    'link_rate':  130,  # rate of interface at endpoints and router reverse path, in Mbps.\n",
    "    'link_buf':   2.6,  # size of interface at endpoints and router reverse path, in Mbit.\n",
    "    'link_delay': 10,   # in ms, applied at aggr only\n",
    "    'p1_rate':    130,  # rate of router egress interface for path 1, in Mbps \n",
    "    'p1_buf':     2.6,  # size of router egress buffer for path 1, in Mbit\n",
    "    'p1_delay':   0.01, # delay of router egress interface for path 1, in ms \n",
    "    'p2_rate':    130,  # rate of router egress interface for path 2, in Mbps \n",
    "    'p2_buf':     2.6,  # size of router egress buffer for path 2, in Mbit\n",
    "    'p2_delay':   0.01, # delay of router egress interface for path 2, in ms \n",
    "    'p2_prob':    0.5,  # probability of being marked for path 2 \n",
    "    'lb_type':    \"packet\", # can be \"packet\" or \"flow\"\n",
    "    'trial':      1     # trial index\n",
    "}"
   ],
   "id": "4fa6f2fb-fdc1-4b09-a556-1f4be4070b95"
  },
  {
   "cell_type": "code",
   "execution_count": null,
   "metadata": {},
   "outputs": [],
   "source": [
    "client_node = slice.get_node(name=\"client\")\n",
    "client_iface  = client_node.get_interface(network_name = \"net0\")\n",
    "client_ifname = client_iface.get_device_name()\n",
    "\n",
    "client_tc_cmd = '''\n",
    "    sudo tc qdisc del dev {iface} root  \n",
    "    sudo tc qdisc add dev {iface} root handle 1: htb default 3  \n",
    "    sudo tc class add dev {iface} parent 1:2 classid 1:3 htb rate {rate}Mbit  \n",
    "    sudo tc qdisc add dev {iface} parent 1:3 bfifo limit  {buf}mbit \n",
    "    '''.format(iface=client_ifname, rate=exp['link_rate'], buf=exp['link_buf'])\n",
    "\n",
    "client_node.execute(client_tc_cmd)\n"
   ],
   "id": "9b2899e9-aebc-440e-8ad2-24ffefa6b771"
  },
  {
   "cell_type": "code",
   "execution_count": null,
   "metadata": {},
   "outputs": [],
   "source": [
    "router_node = slice.get_node(name=\"router\")\n",
    "router_iface_0  = router_node.get_interface(network_name = \"net0\")\n",
    "router_iface_1  = router_node.get_interface(network_name = \"net1\")\n",
    "router_iface_2  = router_node.get_interface(network_name = \"net2\")\n",
    "router_ifname_0 = router_iface_0.get_device_name()\n",
    "router_ifname_1 = router_iface_1.get_device_name()\n",
    "router_ifname_2 = router_iface_2.get_device_name()\n",
    "\n",
    "router_tc_cmd = '''\n",
    "\n",
    "    # configure next hop for \"top\" path\n",
    "    sudo ip route add 10.10.3.0/24 via 10.10.1.2 dev {iface1}\n",
    "\n",
    "    sudo tc qdisc del dev {iface1} root  \n",
    "    sudo tc qdisc add dev {iface1} root handle 1: htb default 3  \n",
    "    sudo tc class add dev {iface1} parent 1:2 classid 1:3 htb rate {r1}Mbit quantum 1514\n",
    "    sudo tc qdisc add dev {iface1} parent 1:3 handle 3: netem delay {d1}ms\n",
    "    sudo tc qdisc add dev {iface1} parent 3: bfifo limit {b1}mbit \n",
    "\n",
    "\n",
    "    # configure next hop for \"bottom\" path\n",
    "    sudo ip route add 10.10.3.0/24 via 10.10.2.2 dev {iface2} table 100\n",
    "    sudo ip rule add fwmark 3 table 100 \n",
    "\n",
    "    sudo tc qdisc del dev {iface2} root  \n",
    "    sudo tc qdisc add dev {iface2} root handle 1: htb default 3  \n",
    "    sudo tc class add dev {iface2} parent 1:2 classid 1:3 htb rate {r2}Mbit quantum 1514 \n",
    "    sudo tc qdisc add dev {iface2} parent 1:3 handle 3: netem delay {d2}ms\n",
    "    sudo tc qdisc add dev {iface2} parent 3: bfifo limit {b2}mbit \n",
    "\n",
    "\n",
    "    # configure reverse path\n",
    "    sudo tc qdisc del dev {iface0} root  \n",
    "    sudo tc qdisc add dev {iface0} root handle 1: htb default 3  \n",
    "    sudo tc class add dev {iface0}parent 1:2 classid 1:3 htb rate {rl}Mbit  \n",
    "    sudo tc qdisc add dev {iface0} parent 1:3 bfifo limit  {bl}mbit \n",
    "\n",
    "    '''.format(iface0=router_ifname_0, iface1=router_ifname_1, iface2=router_ifname_2, \n",
    "            r1=exp['p1_rate'],   b1=exp['p1_buf'], d1=exp['p1_delay'], \n",
    "            r2=exp['p2_rate'],   b2=exp['p2_buf'], d2=exp['p2_delay'],\n",
    "            rl=exp['link_rate'], bl=exp['link_buf'])\n",
    "    \n",
    "router_node.execute(router_tc_cmd)"
   ],
   "id": "1551f8bf-ce35-476f-8d4a-a83d4c4f5502"
  },
  {
   "cell_type": "code",
   "execution_count": null,
   "metadata": {},
   "outputs": [],
   "source": [
    "if exp['lb_type']==\"packet\":\n",
    "    router_iptables_cmd = '''\n",
    "        # flush first!\n",
    "        sudo iptables -t mangle -F\n",
    "        sudo iptables -A PREROUTING -m statistic --mode nth --every {n_packets} --packet 0 -t mangle --destination 10.10.3.100/24 --source 10.10.0.100/1 -j MARK --set-mark 3\n",
    "        sudo iptables -A PREROUTING -m mark --mark 3 -t mangle -j RETURN\n",
    "    '''\n",
    "\n",
    "    \n",
    "if exp['lb_type']==\"flow\":\n",
    "\n",
    "    router_iptables_cmd = '''\n",
    "        # flush first!\n",
    "        sudo iptables -t mangle -F\n",
    "        # Mark all flows to 2\n",
    "        sudo iptables -t mangle -A PREROUTING -i {iface0} -m conntrack --ctstate NEW -j CONNMARK --set-mark 2\n",
    "        # Mark half of the flows to 1\n",
    "        sudo iptables -t mangle -A PREROUTING -i {iface0} -m conntrack --ctstate NEW -m statistic --mode random --probability {prob} -j CONNMARK --set-mark 1\n",
    "        # restore and overwrite (?) the mark of previously marked flows\n",
    "        sudo iptables -t mangle -A PREROUTING -i {iface0} -m conntrack --ctstate ESTABLISHED,RELATED -j CONNMARK --restore-mark\n",
    "\n",
    "        # Mark packets 3 if they belong to flows marked 1\n",
    "        sudo iptables -t mangle -A PREROUTING -m connmark --mark 1 -j MARK --set-mark 3\n",
    "        # if a packet is marked with 3 return\n",
    "        sudo iptables -A PREROUTING -m mark --mark 3 -t mangle -j RETURN\n",
    "\n",
    "        # not used in this example - you can mark more packets with different marks as follows \n",
    "        #sudo iptables -t mangle -A PREROUTING -m connmark --mark 2 -j MARK --set-mark 4\n",
    "        #sudo iptables -A PREROUTING -m mark --mark 4 -t mangle -j RETURN\n",
    "    '''.format(iface0=router_ifname_0, prob=exp['p2_prob'], n_packets=int(1/exp['p2_prob']))\n",
    "\n",
    "    \n",
    "router_node.execute(router_iptables_cmd)"
   ],
   "id": "fccf9e6a-050a-4588-a124-91a76e60d57e"
  },
  {
   "cell_type": "code",
   "execution_count": null,
   "metadata": {},
   "outputs": [],
   "source": [
    "router_node.execute(\"sudo iptables -L -n -t mangle\")"
   ],
   "id": "3a55ad41-0e82-4975-b91a-a6cafdcaf6f9"
  },
  {
   "cell_type": "code",
   "execution_count": null,
   "metadata": {},
   "outputs": [],
   "source": [
    "aggr_node = slice.get_node(name=\"aggr\")\n",
    "aggr_iface_3  = aggr_node.get_interface(network_name = \"net3\")\n",
    "aggr_iface_1  = aggr_node.get_interface(network_name = \"net1\")\n",
    "aggr_iface_2  = aggr_node.get_interface(network_name = \"net2\")\n",
    "aggr_ifname_3 = aggr_iface_3.get_device_name()\n",
    "aggr_ifname_1 = aggr_iface_1.get_device_name()\n",
    "aggr_ifname_2 = aggr_iface_2.get_device_name()\n",
    "\n",
    "aggr_tc_cmd = '''\n",
    "\n",
    "    # configure next hop for \"top\" path\n",
    "    sudo ip route add 10.10.0.0/24 via 10.10.1.1 dev {iface1}\n",
    "\n",
    "    sudo tc qdisc del dev {iface1} root  \n",
    "    sudo tc qdisc add dev {iface1} root handle 1: htb default 3  \n",
    "    sudo tc class add dev {iface1} parent 1:2 classid 1:3 htb rate {r1}Mbit quantum 1514\n",
    "    sudo tc qdisc add dev {iface1} parent 1:3 bfifo limit {b1}mbit  \n",
    "\n",
    "\n",
    "    # configure next hop for \"bottom\" path\n",
    "    sudo ip route add 10.10.0.0/24 via 10.10.2.1 dev {iface2} table 100\n",
    "    sudo ip rule add fwmark 3 table 100 \n",
    "\n",
    "    sudo tc qdisc del dev {iface2} root  \n",
    "    sudo tc qdisc add dev {iface2} root handle 1: htb default 3  \n",
    "    sudo tc class add dev {iface2} parent 1:2 classid 1:3 htb rate {r2}Mbit quantum 1514 \n",
    "    sudo tc qdisc add dev {iface2} parent 1:3 handle 3: netem delay {d2}ms\n",
    "    sudo tc qdisc add dev {iface2} parent 1:3 bfifo limit {b2}mbit  \n",
    "\n",
    "\n",
    "    # configure path to server\n",
    "\n",
    "    sudo tc qdisc del dev {iface3} root  \n",
    "    sudo tc qdisc add dev {iface3} root handle 1: htb default 3  \n",
    "    sudo tc class add dev {iface3} parent 1:2 classid 1:3 htb rate {rl}Mbit quantum 1514 \n",
    "    sudo tc qdisc add dev {iface3} parent 1:3 handle 3: netem delay {dl}ms\n",
    "    sudo tc qdisc add dev {iface3} parent 3: bfifo limit {bl}mbit \n",
    "    \n",
    "    \n",
    "    '''.format(iface3=aggr_ifname_3, iface1=aggr_ifname_1, iface2=aggr_ifname_2, \n",
    "            r1=exp['p1_rate'],   b1=exp['p1_buf'],   d1=exp['p1_delay'], \n",
    "            r2=exp['p2_rate'],   b2=exp['p2_buf'],   d2=exp['p2_delay'],\n",
    "            rl=exp['link_rate'], bl=exp['link_buf'], dl=exp['link_delay'])\n",
    "            \n",
    "aggr_node.execute(aggr_tc_cmd)"
   ],
   "id": "7334116b-db96-40dc-8876-ba8cd42c5df5"
  },
  {
   "cell_type": "code",
   "execution_count": null,
   "metadata": {},
   "outputs": [],
   "source": [
    "server_node = slice.get_node(name=\"server\")\n",
    "server_iface  = server_node.get_interface(network_name = \"net3\")\n",
    "server_ifname = server_iface.get_device_name()\n",
    "\n",
    "server_tc_cmd = '''\n",
    "    sudo tc qdisc del dev {iface} root  \n",
    "    sudo tc qdisc add dev {iface} root handle 1: htb default 3  \n",
    "    sudo tc class add dev {iface} parent 1:2 classid 1:3 htb rate {rate}Mbit  \n",
    "    sudo tc qdisc add dev {iface} parent 1:3 bfifo limit  {buf}mbit \n",
    "    '''.format(iface=server_ifname, rate=exp['lr'], buf=exp['lb'])\n",
    "\n",
    "\n",
    "server_node.execute(server_tc_cmd)"
   ],
   "id": "8f247ce3-7de4-49a1-87ee-6011679153b6"
  }
 ],
 "nbformat": 4,
 "nbformat_minor": 5,
 "metadata": {}
}
